{
 "cells": [
  {
   "cell_type": "code",
   "execution_count": 6,
   "id": "3787ec02-9c7d-4f8a-831b-2098517cfecb",
   "metadata": {},
   "outputs": [
    {
     "name": "stdout",
     "output_type": "stream",
     "text": [
      "Requirement already satisfied: Flask in c:\\users\\nanxu\\appdata\\local\\programs\\python\\python312\\lib\\site-packages (3.0.3)\n",
      "Requirement already satisfied: Pillow in c:\\users\\nanxu\\appdata\\local\\programs\\python\\python312\\lib\\site-packages (10.3.0)\n",
      "Requirement already satisfied: pyjokes in c:\\users\\nanxu\\appdata\\local\\programs\\python\\python312\\lib\\site-packages (0.6.0)\n",
      "Requirement already satisfied: Werkzeug>=3.0.0 in c:\\users\\nanxu\\appdata\\local\\programs\\python\\python312\\lib\\site-packages (from Flask) (3.0.3)\n",
      "Requirement already satisfied: Jinja2>=3.1.2 in c:\\users\\nanxu\\appdata\\local\\programs\\python\\python312\\lib\\site-packages (from Flask) (3.1.3)\n",
      "Requirement already satisfied: itsdangerous>=2.1.2 in c:\\users\\nanxu\\appdata\\local\\programs\\python\\python312\\lib\\site-packages (from Flask) (2.2.0)\n",
      "Requirement already satisfied: click>=8.1.3 in c:\\users\\nanxu\\appdata\\local\\programs\\python\\python312\\lib\\site-packages (from Flask) (8.1.7)\n",
      "Requirement already satisfied: blinker>=1.6.2 in c:\\users\\nanxu\\appdata\\local\\programs\\python\\python312\\lib\\site-packages (from Flask) (1.8.2)\n",
      "Requirement already satisfied: colorama in c:\\users\\nanxu\\appdata\\local\\programs\\python\\python312\\lib\\site-packages (from click>=8.1.3->Flask) (0.4.6)\n",
      "Requirement already satisfied: MarkupSafe>=2.0 in c:\\users\\nanxu\\appdata\\local\\programs\\python\\python312\\lib\\site-packages (from Jinja2>=3.1.2->Flask) (2.1.5)\n"
     ]
    },
    {
     "name": "stderr",
     "output_type": "stream",
     "text": [
      "\n",
      "[notice] A new release of pip is available: 24.0 -> 24.1.2\n",
      "[notice] To update, run: python.exe -m pip install --upgrade pip\n"
     ]
    }
   ],
   "source": [
    "!pip install Flask Pillow pyjokes\n"
   ]
  },
  {
   "cell_type": "code",
   "execution_count": 10,
   "id": "c5d17b2d-ba85-4205-a482-af92860c5741",
   "metadata": {},
   "outputs": [
    {
     "name": "stdout",
     "output_type": "stream",
     "text": [
      "Overwriting app.py\n"
     ]
    }
   ],
   "source": [
    "%%writefile app.py\n",
    "from flask import Flask, render_template, request, send_file\n",
    "#install pillow package first \n",
    "# import pillow package-this package is a forl of the PIL and is used for opening manipulating and saving many differnet image file formats\n",
    "from PIL import Image\n",
    "import io\n",
    "import pyjokes\n",
    "\n",
    "\n",
    "app = Flask(__name__)\n",
    "\n",
    "#add index route which will render an HTML template(index.html) that provides\n",
    "#the instructions and a form for the user to upload an image and selct the output format.\n",
    "@app.route('/')\n",
    "def index():\n",
    "    return render_template('index.html')\n",
    " \n",
    "\n",
    "# add a convert route here which will handle  the post request from the form and use package pillow to\n",
    "# #convert the image and return the converted image.\n",
    "@app.route('/convert', methods=['POST'])\n",
    "# the post method here is to handle 1. image upload 2. image conversion\n",
    "def convert():\n",
    "    if 'image' not in request.files:\n",
    "        return \"No file part\"\n",
    "    \n",
    "    file = request.files['image']\n",
    "    if file.filename == '':\n",
    "        return \"No selected file\"\n",
    "    \n",
    "    output_format = request.form['output_format']\n",
    "    \n",
    "    #we use pillow here to open the iploaded image\n",
    "    image = Image.open(file)\n",
    "    #define variable\n",
    "    original_format = image.format\n",
    "    # converet and save the image to a byteslo object\n",
    "\n",
    "    img_io = io.BytesIO() \n",
    "    #this byteslo object used as an in memory binary stream to save the converted image\n",
    "    image.save(img_io, output_format)\n",
    "    # use pollow to save the image in the specified format(e.g., 'JPEG', 'PNG', etc.) into the img_io object.\n",
    "    img_io.seek(0)\n",
    "     # moves the file pointer to the beginning of the img_io stream, so it can be read from the start when sent to the client.\n",
    "    \n",
    "    message = f\"Image successfully converted from {original_format} to {output_format}.\"\n",
    "    return send_file(img_io, mimetype=f'image/{output_format.lower()}')\n",
    "    #send the img_io object as a file to the client, setting the appropriate MIME type for the image format.\n",
    "\n",
    "# Translate route\n",
    "# Joke route\n",
    "@app.route('/joke', methods=['GET'])\n",
    "def get_joke():\n",
    "    category = request.args.get('category', 'all')\n",
    "    if category not in ['neutral', 'chuck', 'all']:\n",
    "        return \"Invalid category. Please use 'neutral', 'chuck', or 'all'.\"\n",
    "    \n",
    "    joke = pyjokes.get_joke(category=category)\n",
    "    return f\"Here's a joke for you: {joke}\"\n",
    "   \n",
    "\n",
    "if __name__ == \"__main__\":\n",
    "    app.run(debug=True)\n"
   ]
  },
  {
   "cell_type": "code",
   "execution_count": null,
   "id": "cf379f3d-6694-4ebf-b3d6-121f88a0cdb2",
   "metadata": {},
   "outputs": [],
   "source": [
    "!python app.py"
   ]
  },
  {
   "cell_type": "code",
   "execution_count": null,
   "id": "ab87a57f-0664-43be-bebd-239a08d6a2c1",
   "metadata": {},
   "outputs": [],
   "source": []
  }
 ],
 "metadata": {
  "kernelspec": {
   "display_name": "Python 3 (ipykernel)",
   "language": "python",
   "name": "python3"
  },
  "language_info": {
   "codemirror_mode": {
    "name": "ipython",
    "version": 3
   },
   "file_extension": ".py",
   "mimetype": "text/x-python",
   "name": "python",
   "nbconvert_exporter": "python",
   "pygments_lexer": "ipython3",
   "version": "3.12.3"
  }
 },
 "nbformat": 4,
 "nbformat_minor": 5
}
